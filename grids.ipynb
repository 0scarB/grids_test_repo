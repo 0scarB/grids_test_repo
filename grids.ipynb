{
 "cells": [
  {
   "cell_type": "code",
   "execution_count": 15,
   "metadata": {},
   "outputs": [
    {
     "name": "stdout",
     "output_type": "stream",
     "text": [
      "(12, 6)\n"
     ]
    },
    {
     "data": {
      "text/plain": [
       "[(0, 0, 12, 1), (4, 6, 7, 0)]"
      ]
     },
     "execution_count": 15,
     "metadata": {},
     "output_type": "execute_result"
    }
   ],
   "source": [
    "class Grid:\n",
    "    def __init__(self):\n",
    "        self.connections = []\n",
    "        \n",
    "        self.max_x = 0\n",
    "        self.max_y = 0\n",
    "        self.min_x = 0\n",
    "        self.min_y = 0\n",
    "        \n",
    "    def add_connection(self, x1, y1, x2, y2):\n",
    "        for x in (x1, x2):\n",
    "            if x > self.max_x:\n",
    "                self.max_x = x\n",
    "            elif x < self.min_x:\n",
    "                self.min_x = x\n",
    "                \n",
    "        for y in (y1, y2):\n",
    "            if y > self.max_y:\n",
    "                self.max_y = y\n",
    "            elif y < self.min_y:\n",
    "                self.min_y = y\n",
    "        \n",
    "        self.connections.append(((x1, y1, x2, y2)))\n",
    "        \n",
    "    def get_normalized_connections(self):\n",
    "        return [(x1 - self.min_x, y1 - self.min_y, x2 - self.min_x, y2 - self.min_y) \n",
    "                for x1, y1, x2, y2 in self.connections]\n",
    "    \n",
    "    def get_demensions(self):\n",
    "        return self.max_x - self.min_x, self.max_y - self.min_y\n",
    "    \n",
    "    \n",
    "grid = Grid()\n",
    "grid.add_connection(-2, -1, 10, 0)\n",
    "grid.add_connection(2, 5, 5, -1)\n",
    "grid.min_x\n",
    "print(grid.get_demensions())\n",
    "grid.get_normalized_connections()"
   ]
  },
  {
   "cell_type": "code",
   "execution_count": 47,
   "metadata": {
    "collapsed": true
   },
   "outputs": [],
   "source": [
    "def get_svg(filename, grid, spacing=10, line_width=1, \n",
    "            line_color=(0, 0, 0), bg_color=(255, 255, 255),\n",
    "            margin=None):\n",
    "    \n",
    "    if margin is None:\n",
    "        margin = spacing\n",
    "        \n",
    "    connections = grid.get_normalized_connections()\n",
    "    grid_width, grid_height = grid.get_demensions()\n",
    "    \n",
    "    width = grid_width * spacing + 2 * margin\n",
    "    height = grid_height * spacing + 2 * margin\n",
    "    \n",
    "    svg_lines = [\n",
    "        f'<svg width=\"{width}\" height=\"{height}\">\\n'\n",
    "        f'<rect x=\"0\" y=\"0\" width=\"{width}\" height=\"{height}\" fill=\"rgb{bg_color}\"/>'\n",
    "    ]\n",
    "    \n",
    "    for rel_x1, rel_y1, rel_x2, rel_y2 in connections:\n",
    "        x1 = margin + spacing * rel_x1\n",
    "        y1 = margin + spacing * rel_y1\n",
    "        x2 = margin + spacing * rel_x2\n",
    "        y2 = margin + spacing * rel_y2\n",
    "        \n",
    "        svg_lines.append(f'<line x1=\"{x1}\" y1=\"{y1}\" x2=\"{x2}\" y2=\"{y2}\" '\n",
    "                         f'stroke=\"rgb{line_color}\" stroke-width=\"{line_width}\" stroke-linecap=\"square\"/>')\n",
    "        \n",
    "    svg_lines.append('</svg>')\n",
    "        \n",
    "    with open(filename, 'w') as file:\n",
    "        file.write(''.join(svg_lines))\n",
    "        \n",
    "    \n",
    "get_svg('svgs/grid_test', grid)"
   ]
  },
  {
   "cell_type": "code",
   "execution_count": 50,
   "metadata": {},
   "outputs": [],
   "source": [
    "def get_connections_mirrored_x(connections, x_len):\n",
    "    max_x = 2 * x_len - 1\n",
    "    return [(max_x - x1, y1, max_x - x2, y2) for x1, y1, x2, y2 in connections]\n",
    "\n",
    "\n",
    "def get_connections_mirrored_y(connections, y_len):\n",
    "    max_y = 2 * y_len - 1\n",
    "    return [(x1, max_y - y1, x2, max_y - y2) for x1, y1, x2, y2 in connections]\n",
    "\n",
    "\n",
    "def get_pattern(n):\n",
    "    mirror_along_x = True\n",
    "    x_len = 1\n",
    "    y_len = 1\n",
    "    connections = []\n",
    "    for _ in range(n):\n",
    "        if mirror_along_x:\n",
    "            connections.extend(get_connections_mirrored_x(connections, x_len))\n",
    "            \n",
    "            x1 = 0\n",
    "            y1 = y_len - 1\n",
    "            x2 = 0\n",
    "            y2 = y_len\n",
    "            x3 = 2 * x_len - 1\n",
    "            y3 = y_len\n",
    "            x4 = x3\n",
    "            y4 = y_len - 1\n",
    "            \n",
    "            x_len *= 2\n",
    "            y_len += 1\n",
    "            \n",
    "            mirror_along_x = False\n",
    "        else:\n",
    "            connections.extend(get_connections_mirrored_y(connections, y_len))\n",
    "            \n",
    "            x1 - x_len - 1\n",
    "            y1 = 0\n",
    "            x2 = x_len\n",
    "            y2 = 0\n",
    "            x3 = x_len\n",
    "            y3 = 2 * y_len - 1\n",
    "            x4 = x_len - 1\n",
    "            y4 = y3\n",
    "            \n",
    "            x_len += 1\n",
    "            y_len *= 2\n",
    "            \n",
    "            mirror_along_x = True\n",
    "        \n",
    "        for x1, y1, x2, y2 in ((x1, y1, x2, y2), (x2, y2, x3, y3), (x3, y3, x4, y4)):\n",
    "            connections.append((x1, y1, x2, y2))\n",
    "            \n",
    "    grid = Grid()\n",
    "    for (x1, y1, x2, y2) in connections:\n",
    "        grid.add_connection(x1, y1, x2, y2)\n",
    "        \n",
    "    return grid\n",
    "\n",
    "\n",
    "grid = get_pattern(13)\n",
    "get_svg('svgs/pattern_test.svg', grid, line_width=1, spacing=2)"
   ]
  },
  {
   "cell_type": "code",
   "execution_count": null,
   "metadata": {
    "collapsed": true
   },
   "outputs": [],
   "source": []
  }
 ],
 "metadata": {
  "kernelspec": {
   "display_name": "Python 3",
   "language": "python",
   "name": "python3"
  },
  "language_info": {
   "codemirror_mode": {
    "name": "ipython",
    "version": 3
   },
   "file_extension": ".py",
   "mimetype": "text/x-python",
   "name": "python",
   "nbconvert_exporter": "python",
   "pygments_lexer": "ipython3",
   "version": "3.6.1"
  }
 },
 "nbformat": 4,
 "nbformat_minor": 2
}
